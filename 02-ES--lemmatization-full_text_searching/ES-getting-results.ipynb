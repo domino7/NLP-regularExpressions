{
 "cells": [
  {
   "cell_type": "code",
   "execution_count": 1,
   "metadata": {
    "collapsed": true
   },
   "outputs": [],
   "source": [
    "from elasticsearch import Elasticsearch\n",
    "\n",
    "INDEX = \"judgements\"\n",
    "DOC_TYPE = \"judgement\"\n",
    "\n",
    "es = Elasticsearch()"
   ]
  },
  {
   "cell_type": "markdown",
   "metadata": {},
   "source": [
    "## Count doucments"
   ]
  },
  {
   "cell_type": "code",
   "execution_count": 9,
   "metadata": {},
   "outputs": [
    {
     "name": "stdout",
     "output_type": "stream",
     "text": [
      "All judgments in 2015:  56081\n"
     ]
    }
   ],
   "source": [
    "all_judgements_count = es.search(index = INDEX, doc_type = DOC_TYPE)\n",
    "print(\"All judgments in 2015: \", all_judgements_count['hits']['total'])"
   ]
  },
  {
   "cell_type": "markdown",
   "metadata": {},
   "source": [
    "## Judgements in 2015 contains word 'szkoda':\n",
    "\n",
    "### REGEX result:  17767"
   ]
  },
  {
   "cell_type": "code",
   "execution_count": 16,
   "metadata": {},
   "outputs": [
    {
     "name": "stdout",
     "output_type": "stream",
     "text": [
      "Judgements in 2015 contains word 'szkoda': 17926\n"
     ]
    }
   ],
   "source": [
    "word = \"szkoda\"\n",
    "judgments_contains_word = es.search(index = INDEX, doc_type = DOC_TYPE, body={\n",
    "  \"query\": {\n",
    "    \"query_string\" : {\n",
    "            \"fields\" : [\"content\"],\n",
    "            \"query\" : \"szkoda\"\n",
    "        }\n",
    "  }\n",
    "})\n",
    "\n",
    "# print(judgments_contains_word)\n",
    "print(\"Judgements in 2015 contains word 'szkoda':\", judgments_contains_word['hits']['total'])"
   ]
  },
  {
   "cell_type": "markdown",
   "metadata": {},
   "source": [
    "## Judgements in 2015 contains phrase \"trwały uszczerbek na zdrowiu\":"
   ]
  },
  {
   "cell_type": "code",
   "execution_count": 19,
   "metadata": {},
   "outputs": [
    {
     "name": "stdout",
     "output_type": "stream",
     "text": [
      "Judgements in 2015 contains phrase 'trwaly uszczerbek na zdrowiu': 1499\n"
     ]
    }
   ],
   "source": [
    "phrase = \"trwały uszczerbek na zdrowiu\"\n",
    "judgments_contains_phrase = es.search(index = INDEX, doc_type = DOC_TYPE, body={\n",
    "  \"query\" : {\n",
    "        \"match_phrase\": {\n",
    "            \"content\": phrase\n",
    "        }\n",
    "    }\n",
    "})\n",
    "\n",
    "# print(judgments_contains_phrase)\n",
    "print(\"Judgements in 2015 contains phrase 'trwaly uszczerbek na zdrowiu':\", judgments_contains_phrase['hits']['total'])"
   ]
  },
  {
   "cell_type": "markdown",
   "metadata": {
    "collapsed": true
   },
   "source": [
    "## Find 3 judges in 2015 with the biggest number of judgements"
   ]
  },
  {
   "cell_type": "code",
   "execution_count": 11,
   "metadata": {},
   "outputs": [
    {
     "name": "stdout",
     "output_type": "stream",
     "text": [
      "3 judges with biggest number of judgements:\n",
      "Roman Troll :  375\n",
      "Katarzyna Antoniak :  346\n",
      "Elżbieta Wojtczuk :  311\n"
     ]
    }
   ],
   "source": [
    "INDEX2 = \"judgements6\"\n",
    "judges_agg = es.search(index = INDEX2, doc_type = DOC_TYPE, body={\n",
    "  \"aggs\" : {\n",
    "        \"judges\" : {\n",
    "            \"terms\" : { \n",
    "                \"field\" : \"judges.judge\",\n",
    "                \"size\": 3\n",
    "            }\n",
    "        }\n",
    "    }\n",
    "})\n",
    "\n",
    "print(\"3 judges with biggest number of judgements:\")\n",
    "for bucket in judges_agg['aggregations']['judges']['buckets']:\n",
    "    print(bucket['key'], \": \", bucket['doc_count'])"
   ]
  },
  {
   "cell_type": "markdown",
   "metadata": {},
   "source": [
    "## Judgements in months histogram"
   ]
  },
  {
   "cell_type": "code",
   "execution_count": 9,
   "metadata": {},
   "outputs": [
    {
     "name": "stdout",
     "output_type": "stream",
     "text": [
      "[3854, 4293, 5001, 4656, 4492, 5066, 3472, 2649, 5108, 6632, 5548, 6108]\n"
     ]
    }
   ],
   "source": [
    "judgements_agg = es.search(index = INDEX, doc_type = DOC_TYPE, body={\n",
    "  \"aggs\" : {\n",
    "        \"judgements_over_months\" : {\n",
    "            \"date_histogram\" : {\n",
    "                \"field\" : \"date\",\n",
    "                \"interval\" : \"month\"\n",
    "            }\n",
    "        }\n",
    "    }\n",
    "})\n",
    "\n",
    "#  judges with biggest number of judgements:\")\n",
    "values = []\n",
    "for bucket in judgements_agg['aggregations']['judgements_over_months']['buckets']:\n",
    "    if \"2015\" in bucket['key_as_string']:\n",
    "        values.append(bucket['doc_count'])\n",
    "print(values)"
   ]
  },
  {
   "cell_type": "code",
   "execution_count": 10,
   "metadata": {},
   "outputs": [
    {
     "data": {
      "image/png": "[encoded data removed]",
      "text/plain": [
       "<matplotlib.figure.Figure at 0x7f3ec00b8a20>"
      ]
     },
     "metadata": {},
     "output_type": "display_data"
    }
   ],
   "source": [
    "months = [x for x in range(1,13)]\n",
    "\n",
    "import pylab as plt\n",
    "\n",
    "plt.bar(months, values, align='center')\n",
    "plt.show()"
   ]
  },
  {
   "cell_type": "code",
   "execution_count": null,
   "metadata": {
    "collapsed": true
   },
   "outputs": [],
   "source": []
  }
 ],
 "metadata": {
  "kernelspec": {
   "display_name": "Python 3",
   "language": "python",
   "name": "python3"
  },
  "language_info": {
   "codemirror_mode": {
    "name": "ipython",
    "version": 3
   },
   "file_extension": ".py",
   "mimetype": "text/x-python",
   "name": "python",
   "nbconvert_exporter": "python",
   "pygments_lexer": "ipython3",
   "version": "3.6.2"
  }
 },
 "nbformat": 4,
 "nbformat_minor": 1
}
